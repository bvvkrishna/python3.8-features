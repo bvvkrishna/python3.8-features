{
 "cells": [
  {
   "cell_type": "code",
   "execution_count": 2,
   "metadata": {},
   "outputs": [
    {
     "name": "stdout",
     "output_type": "stream",
     "text": [
      "first\n",
      "second\n",
      "third\n"
     ]
    }
   ],
   "source": [
    "# To extract a pattern from a given file\n",
    "import re\n",
    "\n",
    "def main():\n",
    "\tfp = open('test.txt')\n",
    "\tfor each_line in fp:\n",
    "\t\tif re.search('(\\w+) line', each_line):\n",
    "\t\t\tpattern_found = re.search('(\\w+) line', each_line).group(1)\n",
    "\t\t\tprint(pattern_found)\n",
    "\n",
    "if __name__=='__main__':\n",
    "\tmain()\n"
   ]
  },
  {
   "cell_type": "code",
   "execution_count": 3,
   "metadata": {},
   "outputs": [
    {
     "name": "stdout",
     "output_type": "stream",
     "text": [
      "first\n",
      "second\n",
      "third\n"
     ]
    }
   ],
   "source": [
    "# To extract a pattern from a given file using walrus\n",
    "import re\n",
    "\n",
    "def main():\n",
    "\tfp = open('test.txt')\n",
    "\tfor each_line in fp:\n",
    "\t\tif (pattern_found := re.search('(\\w+) line', each_line)):\n",
    "\t\t\tprint(pattern_found.group(1))\n",
    "\n",
    "if __name__=='__main__':\n",
    "\tmain()"
   ]
  }
 ],
 "metadata": {
  "kernelspec": {
   "display_name": "Python 3",
   "language": "python",
   "name": "python3"
  },
  "language_info": {
   "codemirror_mode": {
    "name": "ipython",
    "version": 3
   },
   "file_extension": ".py",
   "mimetype": "text/x-python",
   "name": "python",
   "nbconvert_exporter": "python",
   "pygments_lexer": "ipython3",
   "version": "3.8.1"
  }
 },
 "nbformat": 4,
 "nbformat_minor": 2
}
