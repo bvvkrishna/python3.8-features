{
 "cells": [
  {
   "cell_type": "code",
   "execution_count": 5,
   "metadata": {},
   "outputs": [
    {
     "name": "stdout",
     "output_type": "stream",
     "text": [
      "This is the first line in file\n",
      "\n",
      "This is the second line in file\n",
      "\n",
      "This is the third line in file\n",
      "\n"
     ]
    }
   ],
   "source": [
    "# Assume we have a file test.txt containing three lines\n",
    "# Normally we read the contents of file like below.\n",
    "def main():\n",
    "\tfp = open('test.txt')\n",
    "\tline = fp.readline()\n",
    "\t\n",
    "\twhile line:\n",
    "\t\tprint(line)\n",
    "\t\tline = fp.readline()\n",
    "\n",
    "\n",
    "if __name__=='__main__':\n",
    "\tmain()\n"
   ]
  },
  {
   "cell_type": "code",
   "execution_count": 6,
   "metadata": {},
   "outputs": [
    {
     "name": "stdout",
     "output_type": "stream",
     "text": [
      "This is the first line in file\n",
      "\n",
      "This is the second line in file\n",
      "\n",
      "This is the third line in file\n",
      "\n"
     ]
    }
   ],
   "source": [
    "# Using Walrus we can optimize the code like below\n",
    "def main():\n",
    "\tfp = open('test.txt')\n",
    "\t\n",
    "\twhile line := fp.readline():\n",
    "\t\tprint(line)\n",
    "\n",
    "\n",
    "if __name__=='__main__':\n",
    "\tmain()"
   ]
  }
 ],
 "metadata": {
  "kernelspec": {
   "display_name": "Python 3",
   "language": "python",
   "name": "python3"
  },
  "language_info": {
   "codemirror_mode": {
    "name": "ipython",
    "version": 3
   },
   "file_extension": ".py",
   "mimetype": "text/x-python",
   "name": "python",
   "nbconvert_exporter": "python",
   "pygments_lexer": "ipython3",
   "version": "3.8.1"
  },
  "widgets": {
   "application/vnd.jupyter.widget-state+json": {
    "state": {},
    "version_major": 2,
    "version_minor": 0
   }
  }
 },
 "nbformat": 4,
 "nbformat_minor": 2
}
