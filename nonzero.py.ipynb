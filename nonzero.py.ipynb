{
 "cells": [
  {
   "cell_type": "code",
   "execution_count": 1,
   "metadata": {},
   "outputs": [
    {
     "name": "stdout",
     "output_type": "stream",
     "text": [
      "Enter an integer number? 200\n",
      "Given value 200 is a non-zero number\n"
     ]
    }
   ],
   "source": [
    "# Program to identify if a given integer is non-zero or zero\n",
    "def main():\n",
    "\tn = int(input('Enter an integer number? '))\n",
    "\t\n",
    "\tif n:\n",
    "\t\tprint('Given value %d is a non-zero number' % n)\n",
    "\telse:\n",
    "\t\tprint('Given value %d is zero' % n)\t\n",
    "\n",
    "if __name__=='__main__':\n",
    "\tmain()\n"
   ]
  },
  {
   "cell_type": "code",
   "execution_count": 2,
   "metadata": {},
   "outputs": [
    {
     "name": "stdout",
     "output_type": "stream",
     "text": [
      "Enter an integer number? 0\n",
      "Given value 0 is zero\n"
     ]
    }
   ],
   "source": [
    "# Program to identify if a given integer is non-zero or zero\n",
    "def main():\n",
    "\tif n := int(input('Enter an integer number? ')):\n",
    "\t\tprint('Given value %d is a non-zero number' % n)\n",
    "\telse:\n",
    "\t\tprint('Given value %d is zero' % n)\t\n",
    "\n",
    "if __name__=='__main__':\n",
    "\tmain()\n"
   ]
  }
 ],
 "metadata": {
  "kernelspec": {
   "display_name": "Python 3",
   "language": "python",
   "name": "python3"
  },
  "language_info": {
   "codemirror_mode": {
    "name": "ipython",
    "version": 3
   },
   "file_extension": ".py",
   "mimetype": "text/x-python",
   "name": "python",
   "nbconvert_exporter": "python",
   "pygments_lexer": "ipython3",
   "version": "3.8.1"
  }
 },
 "nbformat": 4,
 "nbformat_minor": 2
}
