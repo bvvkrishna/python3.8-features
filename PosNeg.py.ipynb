{
 "cells": [
  {
   "cell_type": "code",
   "execution_count": 1,
   "metadata": {},
   "outputs": [
    {
     "name": "stdout",
     "output_type": "stream",
     "text": [
      "Enter an integer number? 20\n",
      "Enter an integer number? -19\n",
      "Enter an integer number? 100\n",
      "Enter an integer number? 54\n",
      "Enter an integer number? -32\n",
      "Enter an integer number? 0\n",
      "Number of positive numbers are: 3\n",
      "Number of negative numbers are: 2\n"
     ]
    }
   ],
   "source": [
    "Identifying Positive and Negative Numbers counts\n",
    "def main():\n",
    "\tpos_cnt, neg_cnt = 0, 0\n",
    "\n",
    "\twhile (n := int(input('Enter an integer number? '))) != 0:\n",
    "\t\tif n > 0:\n",
    "\t\t\tpos_cnt += 1\n",
    "\t\telif n < 0:\n",
    "\t\t\tneg_cnt += 1\n",
    "\t\n",
    "\tprint('Number of positive numbers are: %d' % pos_cnt)\n",
    "\tprint('Number of negative numbers are: %d' % neg_cnt)\n",
    "\t\t\t\n",
    "\n",
    "if __name__=='__main__':\n",
    "\tmain()\n"
   ]
  }
 ],
 "metadata": {
  "kernelspec": {
   "display_name": "Python 3",
   "language": "python",
   "name": "python3"
  },
  "language_info": {
   "codemirror_mode": {
    "name": "ipython",
    "version": 3
   },
   "file_extension": ".py",
   "mimetype": "text/x-python",
   "name": "python",
   "nbconvert_exporter": "python",
   "pygments_lexer": "ipython3",
   "version": "3.8.1"
  }
 },
 "nbformat": 4,
 "nbformat_minor": 2
}
