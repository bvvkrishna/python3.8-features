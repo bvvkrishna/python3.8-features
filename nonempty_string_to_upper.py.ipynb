{
 "cells": [
  {
   "cell_type": "code",
   "execution_count": 2,
   "metadata": {},
   "outputs": [
    {
     "name": "stdout",
     "output_type": "stream",
     "text": [
      "Without using Walrus:  ['LION', 'HORSE', 'DEER', 'TIGER', 'BEAR']\n",
      "Using Walrus in List comprehension:  ['LION', 'HORSE', 'DEER', 'TIGER', 'BEAR']\n"
     ]
    }
   ],
   "source": [
    "# converting non-empty strings to upper case\n",
    "def main():\n",
    "\tanimals = ['lion', 'horse', '', 'deer', '', 'tiger', '', 'bear']\n",
    "\t\n",
    "\t# conventional way using list comprehension\n",
    "\tanimals_to_uppercase = [val.upper() for val in animals if val != '']\n",
    "\tprint(\"Without using Walrus: \", animals_to_uppercase)\n",
    "\t\n",
    "\t# using walrus\n",
    "\tanimals_to_uppercase = [result for val in animals if (result:=val.upper())]\n",
    "\tprint(\"Using Walrus in List comprehension: \", animals_to_uppercase)\n",
    "\n",
    "if __name__=='__main__':\n",
    "\tmain()\n"
   ]
  },
  {
   "cell_type": "code",
   "execution_count": null,
   "metadata": {},
   "outputs": [],
   "source": []
  }
 ],
 "metadata": {
  "kernelspec": {
   "display_name": "Python 3",
   "language": "python",
   "name": "python3"
  },
  "language_info": {
   "codemirror_mode": {
    "name": "ipython",
    "version": 3
   },
   "file_extension": ".py",
   "mimetype": "text/x-python",
   "name": "python",
   "nbconvert_exporter": "python",
   "pygments_lexer": "ipython3",
   "version": "3.8.1"
  }
 },
 "nbformat": 4,
 "nbformat_minor": 2
}
